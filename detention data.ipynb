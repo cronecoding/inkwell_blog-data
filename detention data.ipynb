{
 "cells": [
  {
   "cell_type": "code",
   "execution_count": 2,
   "id": "5b7ee366-cf78-4b4c-8ffe-3f18486be280",
   "metadata": {},
   "outputs": [
    {
     "data": {
      "text/html": [
       "<div>\n",
       "<style scoped>\n",
       "    .dataframe tbody tr th:only-of-type {\n",
       "        vertical-align: middle;\n",
       "    }\n",
       "\n",
       "    .dataframe tbody tr th {\n",
       "        vertical-align: top;\n",
       "    }\n",
       "\n",
       "    .dataframe thead th {\n",
       "        text-align: right;\n",
       "    }\n",
       "</style>\n",
       "<table border=\"1\" class=\"dataframe\">\n",
       "  <thead>\n",
       "    <tr style=\"text-align: right;\">\n",
       "      <th></th>\n",
       "      <th>Name</th>\n",
       "      <th>City</th>\n",
       "      <th>State</th>\n",
       "      <th>Zip</th>\n",
       "      <th>Type Detailed*</th>\n",
       "      <th>Current Guaranteed Minimum</th>\n",
       "      <th>Average Daily Population</th>\n",
       "      <th>Current as of**</th>\n",
       "    </tr>\n",
       "  </thead>\n",
       "  <tbody>\n",
       "    <tr>\n",
       "      <th>0</th>\n",
       "      <td>ADAMS COUNTY DET CENTER</td>\n",
       "      <td>NATCHEZ</td>\n",
       "      <td>MS</td>\n",
       "      <td>39120.0</td>\n",
       "      <td>DIGSA</td>\n",
       "      <td>1,100</td>\n",
       "      <td>2,154</td>\n",
       "      <td>03/17/2025</td>\n",
       "    </tr>\n",
       "    <tr>\n",
       "      <th>1</th>\n",
       "      <td>ADELANTO ICE PROCESSING CENTER</td>\n",
       "      <td>ADELANTO</td>\n",
       "      <td>CA</td>\n",
       "      <td>92301.0</td>\n",
       "      <td>CDF</td>\n",
       "      <td>640</td>\n",
       "      <td>66</td>\n",
       "      <td>03/17/2025</td>\n",
       "    </tr>\n",
       "    <tr>\n",
       "      <th>2</th>\n",
       "      <td>ALAMANCE COUNTY DETENTION FACILITY</td>\n",
       "      <td>GRAHAM</td>\n",
       "      <td>NC</td>\n",
       "      <td>27253.0</td>\n",
       "      <td>IGSA</td>\n",
       "      <td>40</td>\n",
       "      <td>20</td>\n",
       "      <td>03/17/2025</td>\n",
       "    </tr>\n",
       "    <tr>\n",
       "      <th>3</th>\n",
       "      <td>ALEXANDRIA STAGING FACILITY</td>\n",
       "      <td>ALEXANDRIA</td>\n",
       "      <td>LA</td>\n",
       "      <td>71303.0</td>\n",
       "      <td>STAGING</td>\n",
       "      <td>NaN</td>\n",
       "      <td>313</td>\n",
       "      <td>03/17/2025</td>\n",
       "    </tr>\n",
       "    <tr>\n",
       "      <th>4</th>\n",
       "      <td>ALLEGANY COUNTY JAIL</td>\n",
       "      <td>BELMONT</td>\n",
       "      <td>NY</td>\n",
       "      <td>14813.0</td>\n",
       "      <td>IGSA</td>\n",
       "      <td>NaN</td>\n",
       "      <td>1</td>\n",
       "      <td>03/17/2025</td>\n",
       "    </tr>\n",
       "  </tbody>\n",
       "</table>\n",
       "</div>"
      ],
      "text/plain": [
       "                                 Name        City State      Zip  \\\n",
       "0             ADAMS COUNTY DET CENTER     NATCHEZ    MS  39120.0   \n",
       "1      ADELANTO ICE PROCESSING CENTER    ADELANTO    CA  92301.0   \n",
       "2  ALAMANCE COUNTY DETENTION FACILITY      GRAHAM    NC  27253.0   \n",
       "3         ALEXANDRIA STAGING FACILITY  ALEXANDRIA    LA  71303.0   \n",
       "4                ALLEGANY COUNTY JAIL     BELMONT    NY  14813.0   \n",
       "\n",
       "  Type Detailed* Current Guaranteed Minimum Average Daily Population  \\\n",
       "0          DIGSA                      1,100                    2,154   \n",
       "1            CDF                        640                       66   \n",
       "2           IGSA                         40                       20   \n",
       "3        STAGING                        NaN                      313   \n",
       "4           IGSA                        NaN                        1   \n",
       "\n",
       "  Current as of**  \n",
       "0      03/17/2025  \n",
       "1      03/17/2025  \n",
       "2      03/17/2025  \n",
       "3      03/17/2025  \n",
       "4      03/17/2025  "
      ]
     },
     "execution_count": 2,
     "metadata": {},
     "output_type": "execute_result"
    }
   ],
   "source": [
    "import pandas as pd\n",
    "import matplotlib.pyplot as plt\n",
    "\n",
    "# Load your data\n",
    "url = \"https://docs.google.com/spreadsheets/d/e/2PACX-1vR9KjJA_rrZJ-SYavWeKU2MZpVVGQd7k0PH64lX5VJ9BnjEKeJaWEh83xYjuR24YhJxM8brSZHY9Jxn/pub?output=csv\"\n",
    "df = pd.read_csv(url)\n",
    "df.head()\n"
   ]
  },
  {
   "cell_type": "code",
   "execution_count": 4,
   "id": "f9cef543-6682-418b-a02c-4142257643fb",
   "metadata": {},
   "outputs": [],
   "source": [
    "# Remove rows where any cell contains the word \"Total\"\n",
    "df = df[~df.apply(lambda row: row.astype(str).str.contains(\"Total\", case=False)).any(axis=1)]"
   ]
  },
  {
   "cell_type": "code",
   "execution_count": 5,
   "id": "3b3f32c6-65b9-46df-8787-f4ce9af24b03",
   "metadata": {},
   "outputs": [
    {
     "name": "stdout",
     "output_type": "stream",
     "text": [
      "Name                           object\n",
      "City                           object\n",
      "State                          object\n",
      "Zip                           float64\n",
      "Type Detailed*                 object\n",
      "Current Guaranteed Minimum     object\n",
      "Average Daily Population       object\n",
      "Current as of**                object\n",
      "dtype: object\n"
     ]
    }
   ],
   "source": [
    "print(df.dtypes)"
   ]
  },
  {
   "cell_type": "code",
   "execution_count": 6,
   "id": "34d228a0-9850-4889-9a9c-40022facb148",
   "metadata": {},
   "outputs": [
    {
     "name": "stdout",
     "output_type": "stream",
     "text": [
      "Name                                  object\n",
      "City                                  object\n",
      "State                                 object\n",
      "Zip                                   object\n",
      "Type Detailed*                        object\n",
      "Current Guaranteed Minimum             Int64\n",
      "Average Daily Population               Int64\n",
      "Current as of**               datetime64[ns]\n",
      "dtype: object\n"
     ]
    }
   ],
   "source": [
    "# Ensure 'Zip' is an object (string)\n",
    "df['Zip'] = df['Zip'].astype(str)\n",
    "\n",
    "# Define the columns you want to convert (use the exact column names)\n",
    "int_cols = ['Current Guaranteed Minimum', 'Average Daily Population']\n",
    "\n",
    "# Convert these columns to numeric, coercing errors, then cast to a nullable integer type\n",
    "df[int_cols] = df[int_cols].apply(pd.to_numeric, errors='coerce').astype('Int64')\n",
    "\n",
    "# Convert 'Current as of**' to datetime, coercing errors to NaT\n",
    "df['Current as of**'] = pd.to_datetime(df['Current as of**'], errors='coerce')\n",
    "\n",
    "print(df.dtypes)"
   ]
  },
  {
   "cell_type": "code",
   "execution_count": 7,
   "id": "bca56b43-4c1d-4afa-8b5e-4a453261229e",
   "metadata": {},
   "outputs": [
    {
     "name": "stdout",
     "output_type": "stream",
     "text": [
      "  Current as of**  Average Daily Population\n",
      "0      2019-09-30                173.009852\n",
      "1      2020-08-21                165.845679\n",
      "2      2020-09-04                166.871951\n",
      "3      2020-09-18                166.720497\n",
      "4      2020-11-14                113.907975\n"
     ]
    }
   ],
   "source": [
    "adp_total=df.groupby('Current as of**')['Average Daily Population'].mean().reset_index()\n",
    "print(adp_total.head())\n"
   ]
  },
  {
   "cell_type": "code",
   "execution_count": 29,
   "id": "0fe4fc9b-3028-435f-9255-8200af9c781c",
   "metadata": {},
   "outputs": [
    {
     "data": {
      "application/vnd.plotly.v1+json": {
       "config": {
        "plotlyServerURL": "https://plot.ly"
       },
       "data": [
        {
         "hovertemplate": "Current as of**=%{x}<br>Average Daily Population=%{y:.2f}<extra></extra>",
         "legendgroup": "",
         "line": {
          "color": "firebrick",
          "dash": "solid"
         },
         "marker": {
          "color": "firebrick",
          "symbol": "circle"
         },
         "mode": "lines+markers",
         "name": "",
         "orientation": "v",
         "showlegend": false,
         "type": "scatter",
         "x": [
          "2019-09-30T00:00:00",
          "2020-08-21T00:00:00",
          "2020-09-04T00:00:00",
          "2020-09-18T00:00:00",
          "2020-11-14T00:00:00",
          "2020-11-26T00:00:00",
          "2020-12-10T00:00:00",
          "2020-12-30T00:00:00",
          "2021-01-07T00:00:00",
          "2021-01-22T00:00:00",
          "2021-02-11T00:00:00",
          "2021-02-25T00:00:00",
          "2021-03-17T00:00:00",
          "2021-03-31T00:00:00",
          "2021-04-14T00:00:00",
          "2021-05-03T00:00:00",
          "2021-05-13T00:00:00",
          "2021-05-28T00:00:00",
          "2021-06-11T00:00:00",
          "2021-06-24T00:00:00",
          "2021-07-08T00:00:00",
          "2021-07-22T00:00:00",
          "2021-08-06T00:00:00",
          "2021-08-24T00:00:00",
          "2021-09-13T00:00:00",
          "2021-09-16T00:00:00",
          "2021-10-01T00:00:00",
          "2021-10-28T00:00:00",
          "2021-11-30T00:00:00",
          "2021-12-13T00:00:00",
          "2021-12-27T00:00:00",
          "2022-01-10T00:00:00",
          "2022-02-07T00:00:00",
          "2022-02-22T00:00:00",
          "2022-03-07T00:00:00",
          "2022-03-14T00:00:00",
          "2022-04-04T00:00:00",
          "2022-04-18T00:00:00",
          "2022-05-05T00:00:00",
          "2022-05-31T00:00:00",
          "2022-06-13T00:00:00",
          "2022-07-11T00:00:00",
          "2022-08-14T00:00:00",
          "2022-09-19T00:00:00",
          "2022-10-31T00:00:00",
          "2022-11-14T00:00:00",
          "2022-11-28T00:00:00",
          "2022-12-13T00:00:00",
          "2022-12-27T00:00:00",
          "2023-01-09T00:00:00",
          "2023-01-23T00:00:00",
          "2023-02-06T00:00:00",
          "2023-02-21T00:00:00",
          "2023-03-06T00:00:00",
          "2023-03-20T00:00:00",
          "2023-04-04T00:00:00",
          "2023-04-11T00:00:00",
          "2023-05-01T00:00:00",
          "2023-05-15T00:00:00",
          "2023-05-30T00:00:00",
          "2023-06-12T00:00:00",
          "2023-06-26T00:00:00",
          "2023-07-10T00:00:00",
          "2023-07-24T00:00:00",
          "2023-08-07T00:00:00",
          "2023-08-21T00:00:00",
          "2023-09-04T00:00:00",
          "2023-09-18T00:00:00",
          "2023-09-30T00:00:00",
          "2023-10-10T00:00:00",
          "2023-11-13T00:00:00",
          "2023-11-27T00:00:00",
          "2023-12-11T00:00:00",
          "2023-12-26T00:00:00",
          "2024-01-12T00:00:00",
          "2024-01-22T00:00:00",
          "2024-02-05T00:00:00",
          "2024-02-20T00:00:00",
          "2024-03-04T00:00:00",
          "2024-03-18T00:00:00",
          "2024-04-01T00:00:00",
          "2024-04-15T00:00:00",
          "2024-04-29T00:00:00",
          "2024-05-13T00:00:00",
          "2024-06-10T00:00:00",
          "2024-07-08T00:00:00",
          "2024-08-05T00:00:00",
          "2024-08-19T00:00:00",
          "2024-09-03T00:00:00",
          "2024-10-28T00:00:00",
          "2024-11-25T00:00:00",
          "2024-12-09T00:00:00",
          "2024-12-23T00:00:00",
          "2025-01-06T00:00:00",
          "2025-01-21T00:00:00",
          "2025-02-08T00:00:00",
          "2025-02-18T00:00:00",
          "2025-03-03T00:00:00",
          "2025-03-17T00:00:00"
         ],
         "xaxis": "x",
         "y": [
          173.00985221674875,
          165.84567901234567,
          166.8719512195122,
          166.72049689440993,
          113.9079754601227,
          112.34782608695652,
          106,
          109.59748427672956,
          10.616817456093667,
          109.26451612903226,
          108.83006535947712,
          112.35616438356165,
          111.52482269503547,
          111.85,
          109.4225352112676,
          108.1048951048951,
          109.60992907801419,
          116.8962962962963,
          117.35036496350365,
          114.40972222222223,
          114.68243243243244,
          116.66,
          126.27464788732394,
          128.75352112676057,
          132.31386861313868,
          131.3941605839416,
          109.60992907801419,
          135.51111111111112,
          157.5859375,
          159.5121951219512,
          163.46218487394958,
          156.176,
          149.05384615384617,
          151.38888888888889,
          146.24806201550388,
          156.525,
          151.4878048780488,
          153.75,
          144.88095238095238,
          138.80597014925374,
          142.28787878787878,
          136.6417910447761,
          146.8031496062992,
          149.6953125,
          186.15384615384616,
          190.1196581196581,
          185.0909090909091,
          174,
          195.1818181818182,
          176.25423728813558,
          174.75409836065575,
          178.42857142857142,
          186.82456140350877,
          177.34782608695653,
          177.07758620689654,
          179.26956521739132,
          176.10256410256412,
          176.64655172413794,
          175.06034482758622,
          191.14018691588785,
          175.1271186440678,
          191.90350877192984,
          183.5304347826087,
          179.10084033613447,
          189.91150442477877,
          200.09734513274336,
          194.91071428571428,
          192.02608695652174,
          202.9,
          207.6697247706422,
          203.63888888888889,
          203.96296296296296,
          195.50892857142858,
          217.83673469387756,
          221.35714285714286,
          197.43636363636364,
          221.60204081632654,
          226.40625,
          222.6530612244898,
          223.30612244897958,
          225.2577319587629,
          221.91836734693877,
          218.67676767676767,
          222.95876288659792,
          229.85106382978722,
          233.1505376344086,
          229.88888888888889,
          230.32323232323233,
          227.07291666666666,
          231.66,
          238.72448979591837,
          241.17525773195877,
          244.48958333333334,
          245.09375,
          245.85416666666666,
          228.02912621359224,
          216.16216216216216,
          203.90833333333333,
          202.83739837398375
         ],
         "yaxis": "y"
        }
       ],
       "layout": {
        "annotations": [
         {
          "arrowhead": 2,
          "ax": 110,
          "ay": -10,
          "font": {
           "color": "black",
           "size": 8
          },
          "showarrow": true,
          "text": "Low outlier suspected from data gap due to COVID",
          "x": "2021",
          "y": 10
         }
        ],
        "hovermode": "x unified",
        "legend": {
         "tracegroupgap": 0
        },
        "paper_bgcolor": "lightgrey",
        "plot_bgcolor": "lightgrey",
        "template": {
         "data": {
          "bar": [
           {
            "error_x": {
             "color": "#2a3f5f"
            },
            "error_y": {
             "color": "#2a3f5f"
            },
            "marker": {
             "line": {
              "color": "#E5ECF6",
              "width": 0.5
             },
             "pattern": {
              "fillmode": "overlay",
              "size": 10,
              "solidity": 0.2
             }
            },
            "type": "bar"
           }
          ],
          "barpolar": [
           {
            "marker": {
             "line": {
              "color": "#E5ECF6",
              "width": 0.5
             },
             "pattern": {
              "fillmode": "overlay",
              "size": 10,
              "solidity": 0.2
             }
            },
            "type": "barpolar"
           }
          ],
          "carpet": [
           {
            "aaxis": {
             "endlinecolor": "#2a3f5f",
             "gridcolor": "white",
             "linecolor": "white",
             "minorgridcolor": "white",
             "startlinecolor": "#2a3f5f"
            },
            "baxis": {
             "endlinecolor": "#2a3f5f",
             "gridcolor": "white",
             "linecolor": "white",
             "minorgridcolor": "white",
             "startlinecolor": "#2a3f5f"
            },
            "type": "carpet"
           }
          ],
          "choropleth": [
           {
            "colorbar": {
             "outlinewidth": 0,
             "ticks": ""
            },
            "type": "choropleth"
           }
          ],
          "contour": [
           {
            "colorbar": {
             "outlinewidth": 0,
             "ticks": ""
            },
            "colorscale": [
             [
              0,
              "#0d0887"
             ],
             [
              0.1111111111111111,
              "#46039f"
             ],
             [
              0.2222222222222222,
              "#7201a8"
             ],
             [
              0.3333333333333333,
              "#9c179e"
             ],
             [
              0.4444444444444444,
              "#bd3786"
             ],
             [
              0.5555555555555556,
              "#d8576b"
             ],
             [
              0.6666666666666666,
              "#ed7953"
             ],
             [
              0.7777777777777778,
              "#fb9f3a"
             ],
             [
              0.8888888888888888,
              "#fdca26"
             ],
             [
              1,
              "#f0f921"
             ]
            ],
            "type": "contour"
           }
          ],
          "contourcarpet": [
           {
            "colorbar": {
             "outlinewidth": 0,
             "ticks": ""
            },
            "type": "contourcarpet"
           }
          ],
          "heatmap": [
           {
            "colorbar": {
             "outlinewidth": 0,
             "ticks": ""
            },
            "colorscale": [
             [
              0,
              "#0d0887"
             ],
             [
              0.1111111111111111,
              "#46039f"
             ],
             [
              0.2222222222222222,
              "#7201a8"
             ],
             [
              0.3333333333333333,
              "#9c179e"
             ],
             [
              0.4444444444444444,
              "#bd3786"
             ],
             [
              0.5555555555555556,
              "#d8576b"
             ],
             [
              0.6666666666666666,
              "#ed7953"
             ],
             [
              0.7777777777777778,
              "#fb9f3a"
             ],
             [
              0.8888888888888888,
              "#fdca26"
             ],
             [
              1,
              "#f0f921"
             ]
            ],
            "type": "heatmap"
           }
          ],
          "heatmapgl": [
           {
            "colorbar": {
             "outlinewidth": 0,
             "ticks": ""
            },
            "colorscale": [
             [
              0,
              "#0d0887"
             ],
             [
              0.1111111111111111,
              "#46039f"
             ],
             [
              0.2222222222222222,
              "#7201a8"
             ],
             [
              0.3333333333333333,
              "#9c179e"
             ],
             [
              0.4444444444444444,
              "#bd3786"
             ],
             [
              0.5555555555555556,
              "#d8576b"
             ],
             [
              0.6666666666666666,
              "#ed7953"
             ],
             [
              0.7777777777777778,
              "#fb9f3a"
             ],
             [
              0.8888888888888888,
              "#fdca26"
             ],
             [
              1,
              "#f0f921"
             ]
            ],
            "type": "heatmapgl"
           }
          ],
          "histogram": [
           {
            "marker": {
             "pattern": {
              "fillmode": "overlay",
              "size": 10,
              "solidity": 0.2
             }
            },
            "type": "histogram"
           }
          ],
          "histogram2d": [
           {
            "colorbar": {
             "outlinewidth": 0,
             "ticks": ""
            },
            "colorscale": [
             [
              0,
              "#0d0887"
             ],
             [
              0.1111111111111111,
              "#46039f"
             ],
             [
              0.2222222222222222,
              "#7201a8"
             ],
             [
              0.3333333333333333,
              "#9c179e"
             ],
             [
              0.4444444444444444,
              "#bd3786"
             ],
             [
              0.5555555555555556,
              "#d8576b"
             ],
             [
              0.6666666666666666,
              "#ed7953"
             ],
             [
              0.7777777777777778,
              "#fb9f3a"
             ],
             [
              0.8888888888888888,
              "#fdca26"
             ],
             [
              1,
              "#f0f921"
             ]
            ],
            "type": "histogram2d"
           }
          ],
          "histogram2dcontour": [
           {
            "colorbar": {
             "outlinewidth": 0,
             "ticks": ""
            },
            "colorscale": [
             [
              0,
              "#0d0887"
             ],
             [
              0.1111111111111111,
              "#46039f"
             ],
             [
              0.2222222222222222,
              "#7201a8"
             ],
             [
              0.3333333333333333,
              "#9c179e"
             ],
             [
              0.4444444444444444,
              "#bd3786"
             ],
             [
              0.5555555555555556,
              "#d8576b"
             ],
             [
              0.6666666666666666,
              "#ed7953"
             ],
             [
              0.7777777777777778,
              "#fb9f3a"
             ],
             [
              0.8888888888888888,
              "#fdca26"
             ],
             [
              1,
              "#f0f921"
             ]
            ],
            "type": "histogram2dcontour"
           }
          ],
          "mesh3d": [
           {
            "colorbar": {
             "outlinewidth": 0,
             "ticks": ""
            },
            "type": "mesh3d"
           }
          ],
          "parcoords": [
           {
            "line": {
             "colorbar": {
              "outlinewidth": 0,
              "ticks": ""
             }
            },
            "type": "parcoords"
           }
          ],
          "pie": [
           {
            "automargin": true,
            "type": "pie"
           }
          ],
          "scatter": [
           {
            "fillpattern": {
             "fillmode": "overlay",
             "size": 10,
             "solidity": 0.2
            },
            "type": "scatter"
           }
          ],
          "scatter3d": [
           {
            "line": {
             "colorbar": {
              "outlinewidth": 0,
              "ticks": ""
             }
            },
            "marker": {
             "colorbar": {
              "outlinewidth": 0,
              "ticks": ""
             }
            },
            "type": "scatter3d"
           }
          ],
          "scattercarpet": [
           {
            "marker": {
             "colorbar": {
              "outlinewidth": 0,
              "ticks": ""
             }
            },
            "type": "scattercarpet"
           }
          ],
          "scattergeo": [
           {
            "marker": {
             "colorbar": {
              "outlinewidth": 0,
              "ticks": ""
             }
            },
            "type": "scattergeo"
           }
          ],
          "scattergl": [
           {
            "marker": {
             "colorbar": {
              "outlinewidth": 0,
              "ticks": ""
             }
            },
            "type": "scattergl"
           }
          ],
          "scattermapbox": [
           {
            "marker": {
             "colorbar": {
              "outlinewidth": 0,
              "ticks": ""
             }
            },
            "type": "scattermapbox"
           }
          ],
          "scatterpolar": [
           {
            "marker": {
             "colorbar": {
              "outlinewidth": 0,
              "ticks": ""
             }
            },
            "type": "scatterpolar"
           }
          ],
          "scatterpolargl": [
           {
            "marker": {
             "colorbar": {
              "outlinewidth": 0,
              "ticks": ""
             }
            },
            "type": "scatterpolargl"
           }
          ],
          "scatterternary": [
           {
            "marker": {
             "colorbar": {
              "outlinewidth": 0,
              "ticks": ""
             }
            },
            "type": "scatterternary"
           }
          ],
          "surface": [
           {
            "colorbar": {
             "outlinewidth": 0,
             "ticks": ""
            },
            "colorscale": [
             [
              0,
              "#0d0887"
             ],
             [
              0.1111111111111111,
              "#46039f"
             ],
             [
              0.2222222222222222,
              "#7201a8"
             ],
             [
              0.3333333333333333,
              "#9c179e"
             ],
             [
              0.4444444444444444,
              "#bd3786"
             ],
             [
              0.5555555555555556,
              "#d8576b"
             ],
             [
              0.6666666666666666,
              "#ed7953"
             ],
             [
              0.7777777777777778,
              "#fb9f3a"
             ],
             [
              0.8888888888888888,
              "#fdca26"
             ],
             [
              1,
              "#f0f921"
             ]
            ],
            "type": "surface"
           }
          ],
          "table": [
           {
            "cells": {
             "fill": {
              "color": "#EBF0F8"
             },
             "line": {
              "color": "white"
             }
            },
            "header": {
             "fill": {
              "color": "#C8D4E3"
             },
             "line": {
              "color": "white"
             }
            },
            "type": "table"
           }
          ]
         },
         "layout": {
          "annotationdefaults": {
           "arrowcolor": "#2a3f5f",
           "arrowhead": 0,
           "arrowwidth": 1
          },
          "autotypenumbers": "strict",
          "coloraxis": {
           "colorbar": {
            "outlinewidth": 0,
            "ticks": ""
           }
          },
          "colorscale": {
           "diverging": [
            [
             0,
             "#8e0152"
            ],
            [
             0.1,
             "#c51b7d"
            ],
            [
             0.2,
             "#de77ae"
            ],
            [
             0.3,
             "#f1b6da"
            ],
            [
             0.4,
             "#fde0ef"
            ],
            [
             0.5,
             "#f7f7f7"
            ],
            [
             0.6,
             "#e6f5d0"
            ],
            [
             0.7,
             "#b8e186"
            ],
            [
             0.8,
             "#7fbc41"
            ],
            [
             0.9,
             "#4d9221"
            ],
            [
             1,
             "#276419"
            ]
           ],
           "sequential": [
            [
             0,
             "#0d0887"
            ],
            [
             0.1111111111111111,
             "#46039f"
            ],
            [
             0.2222222222222222,
             "#7201a8"
            ],
            [
             0.3333333333333333,
             "#9c179e"
            ],
            [
             0.4444444444444444,
             "#bd3786"
            ],
            [
             0.5555555555555556,
             "#d8576b"
            ],
            [
             0.6666666666666666,
             "#ed7953"
            ],
            [
             0.7777777777777778,
             "#fb9f3a"
            ],
            [
             0.8888888888888888,
             "#fdca26"
            ],
            [
             1,
             "#f0f921"
            ]
           ],
           "sequentialminus": [
            [
             0,
             "#0d0887"
            ],
            [
             0.1111111111111111,
             "#46039f"
            ],
            [
             0.2222222222222222,
             "#7201a8"
            ],
            [
             0.3333333333333333,
             "#9c179e"
            ],
            [
             0.4444444444444444,
             "#bd3786"
            ],
            [
             0.5555555555555556,
             "#d8576b"
            ],
            [
             0.6666666666666666,
             "#ed7953"
            ],
            [
             0.7777777777777778,
             "#fb9f3a"
            ],
            [
             0.8888888888888888,
             "#fdca26"
            ],
            [
             1,
             "#f0f921"
            ]
           ]
          },
          "colorway": [
           "#636efa",
           "#EF553B",
           "#00cc96",
           "#ab63fa",
           "#FFA15A",
           "#19d3f3",
           "#FF6692",
           "#B6E880",
           "#FF97FF",
           "#FECB52"
          ],
          "font": {
           "color": "#2a3f5f"
          },
          "geo": {
           "bgcolor": "white",
           "lakecolor": "white",
           "landcolor": "#E5ECF6",
           "showlakes": true,
           "showland": true,
           "subunitcolor": "white"
          },
          "hoverlabel": {
           "align": "left"
          },
          "hovermode": "closest",
          "mapbox": {
           "style": "light"
          },
          "paper_bgcolor": "white",
          "plot_bgcolor": "#E5ECF6",
          "polar": {
           "angularaxis": {
            "gridcolor": "white",
            "linecolor": "white",
            "ticks": ""
           },
           "bgcolor": "#E5ECF6",
           "radialaxis": {
            "gridcolor": "white",
            "linecolor": "white",
            "ticks": ""
           }
          },
          "scene": {
           "xaxis": {
            "backgroundcolor": "#E5ECF6",
            "gridcolor": "white",
            "gridwidth": 2,
            "linecolor": "white",
            "showbackground": true,
            "ticks": "",
            "zerolinecolor": "white"
           },
           "yaxis": {
            "backgroundcolor": "#E5ECF6",
            "gridcolor": "white",
            "gridwidth": 2,
            "linecolor": "white",
            "showbackground": true,
            "ticks": "",
            "zerolinecolor": "white"
           },
           "zaxis": {
            "backgroundcolor": "#E5ECF6",
            "gridcolor": "white",
            "gridwidth": 2,
            "linecolor": "white",
            "showbackground": true,
            "ticks": "",
            "zerolinecolor": "white"
           }
          },
          "shapedefaults": {
           "line": {
            "color": "#2a3f5f"
           }
          },
          "ternary": {
           "aaxis": {
            "gridcolor": "white",
            "linecolor": "white",
            "ticks": ""
           },
           "baxis": {
            "gridcolor": "white",
            "linecolor": "white",
            "ticks": ""
           },
           "bgcolor": "#E5ECF6",
           "caxis": {
            "gridcolor": "white",
            "linecolor": "white",
            "ticks": ""
           }
          },
          "title": {
           "x": 0.05
          },
          "xaxis": {
           "automargin": true,
           "gridcolor": "white",
           "linecolor": "white",
           "ticks": "",
           "title": {
            "standoff": 15
           },
           "zerolinecolor": "white",
           "zerolinewidth": 2
          },
          "yaxis": {
           "automargin": true,
           "gridcolor": "white",
           "linecolor": "white",
           "ticks": "",
           "title": {
            "standoff": 15
           },
           "zerolinecolor": "white",
           "zerolinewidth": 2
          }
         }
        },
        "title": {
         "text": "Overall Average Daily Population Over Time"
        },
        "xaxis": {
         "anchor": "y",
         "domain": [
          0,
          1
         ],
         "title": {
          "text": "Date"
         }
        },
        "yaxis": {
         "anchor": "x",
         "domain": [
          0,
          1
         ],
         "title": {
          "text": "Average Daily Population"
         }
        }
       }
      },
      "image/png": "[encoded data removed]"
     },
     "metadata": {},
     "output_type": "display_data"
    }
   ],
   "source": [
    "import plotly.express as px\n",
    "import plotly.io as pio\n",
    "\n",
    "pio.renderers.default = 'jupyterlab'\n",
    "\n",
    "fig=px.line(adp_total,\n",
    "            x='Current as of**',\n",
    "            y='Average Daily Population',\n",
    "            title=\"Overall Average Daily Population Over Time\",\n",
    "            markers=True,\n",
    "            hover_data={'Current as of**': True, 'Average Daily Population': ':.2f'}\n",
    "           )\n",
    "fig.update_traces(line=dict(color='firebrick'), marker=dict(color='firebrick'))\n",
    "fig.update_layout(\n",
    "    xaxis_title='Date',\n",
    "    yaxis_title='Average Daily Population',\n",
    "    hovermode='x unified',\n",
    "    paper_bgcolor='lightgrey',\n",
    "    plot_bgcolor='lightgrey')\n",
    "\n",
    "fig.add_annotation(\n",
    "    x='2021',\n",
    "    y=10,\n",
    "    text=\"Low outlier suspected from data gap due to COVID\",\n",
    "    showarrow=True,\n",
    "    arrowhead=2,\n",
    "    ax=110,\n",
    "    ay=-10,\n",
    "    font=dict(color=\"black\", size=8))\n",
    "\n",
    "html_str = fig.to_html(include_plotlyjs='cdn')\n",
    "with open(\"plotly_graph.html\", \"w\") as f:\n",
    "    f.write(html_str)\n",
    "\n",
    "    \n",
    "fig.show()"
   ]
  },
  {
   "cell_type": "code",
   "execution_count": null,
   "id": "449e88e9-6ebc-4fdb-bade-1aa52d2c1b5b",
   "metadata": {},
   "outputs": [],
   "source": []
  },
  {
   "cell_type": "code",
   "execution_count": null,
   "id": "89d9c61c-81ec-4fd9-81f1-8ea16a8fd25c",
   "metadata": {},
   "outputs": [],
   "source": []
  }
 ],
 "metadata": {
  "kernelspec": {
   "display_name": "Python 3 (ipykernel)",
   "language": "python",
   "name": "python3"
  },
  "language_info": {
   "codemirror_mode": {
    "name": "ipython",
    "version": 3
   },
   "file_extension": ".py",
   "mimetype": "text/x-python",
   "name": "python",
   "nbconvert_exporter": "python",
   "pygments_lexer": "ipython3",
   "version": "3.12.9"
  }
 },
 "nbformat": 4,
 "nbformat_minor": 5
}
